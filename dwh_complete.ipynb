{
 "cells": [
  {
   "cell_type": "code",
   "execution_count": 4,
   "id": "fd992cfa-317a-4e49-8967-3be9b8e86e76",
   "metadata": {},
   "outputs": [],
   "source": [
    "from pyspark.sql import SparkSession\n",
    "from pyspark.sql.functions import col, lit, row_number, coalesce, when, first, monotonically_increasing_id,current_timestamp\n",
    "from pyspark.sql.window import Window\n",
    "\n",
    "spark = SparkSession.builder \\\n",
    "    .appName(\"DWH Population\") \\\n",
    "    .config(\"spark.driver.extraClassPath\", \"/home/jovyan/postgresql-42.7.4.jar\") \\\n",
    "    .getOrCreate()\n",
    "\n",
    "jdbc_url = \"jdbc:postgresql://localhost:5432/postgres\"\n",
    "properties = {\n",
    "    \"user\": \"postgres\",\n",
    "    \"password\": \"mysecretpassword\",\n",
    "    \"driver\": \"org.postgresql.Driver\"\n",
    "}\n",
    "\n"
   ]
  },
  {
   "cell_type": "code",
   "execution_count": 5,
   "id": "5d1e7c00-74c4-43ae-8375-d39c1d73ed2e",
   "metadata": {},
   "outputs": [],
   "source": [
    "df_first = spark.read.jdbc(url=jdbc_url, table=\"source1.craft_market_wide\", properties=properties)\n",
    "\n",
    "# Load data from the second database\n",
    "df_second_masters_products = spark.read.jdbc(url=jdbc_url, table=\"source2.craft_market_masters_products\", properties=properties)\n",
    "df_second_orders_customers = spark.read.jdbc(url=jdbc_url, table=\"source2.craft_market_orders_customers\", properties=properties)\n",
    "df_second = df_second_orders_customers.join(df_second_masters_products, on=\"craftsman_id\", how=\"inner\") \n",
    "\n",
    "# Load data from the third database\n",
    "df_third_craftsmans = spark.read.jdbc(url=jdbc_url, table=\"source3.craft_market_craftsmans\", properties=properties)\n",
    "df_third_customers = spark.read.jdbc(url=jdbc_url, table=\"source3.craft_market_customers\", properties=properties)\n",
    "df_third_orders = spark.read.jdbc(url=jdbc_url, table=\"source3.craft_market_orders\", properties=properties)\n",
    "df_third = df_third_orders \\\n",
    "    .join(df_third_craftsmans, on=\"craftsman_id\", how=\"inner\") \\\n",
    "    .join(df_third_customers, on=\"customer_id\", how=\"inner\")"
   ]
  },
  {
   "cell_type": "code",
   "execution_count": 6,
   "id": "96a2d923-882c-4434-b316-012f90fbde98",
   "metadata": {},
   "outputs": [],
   "source": [
    "columns = ['craftsman_name', 'craftsman_address', 'craftsman_birthday', 'craftsman_email',\n",
    "           'product_name', 'product_description', 'product_type', 'product_price',\n",
    "           'order_created_date', 'order_completion_date', 'order_status',\n",
    "           'customer_name', 'customer_address', 'customer_birthday', 'customer_email']\n",
    "dfs = [df_first, df_second, df_third]\n",
    "dfs = [df.select([col(c) if c in df.columns else lit(None).alias(c) for c in columns]) for df in dfs]\n",
    "\n",
    "\n",
    "combined_df = dfs[0].union(dfs[1]).union(dfs[2])\n",
    "\n",
    "final_df = combined_df\n"
   ]
  },
  {
   "cell_type": "code",
   "execution_count": 7,
   "id": "4c882004-dbfc-4d33-ab90-5ff878ec9f10",
   "metadata": {},
   "outputs": [
    {
     "name": "stdout",
     "output_type": "stream",
     "text": [
      "final_df.count()=3006 d_craftsmans.count()=2999 d_customers.count()=3001 d_products.count()=2994 f_orders.count()=3006\n"
     ]
    }
   ],
   "source": [
    "# Step 2: Create d_craftsmans table\n",
    "window_craftsman = Window.orderBy(\"craftsman_name\", \"craftsman_birthday\")\n",
    "d_craftsmans = final_df.select(\"craftsman_name\", \"craftsman_address\", \"craftsman_birthday\", \"craftsman_email\") \\\n",
    "    .dropDuplicates([\"craftsman_name\", \"craftsman_birthday\"]) \\\n",
    "    .withColumn(\"craftsman_id\", row_number().over(window_craftsman))\n",
    "\n",
    "# Step 2: Create d_customers table\n",
    "window_customer = Window.orderBy(\"customer_name\", \"customer_birthday\")\n",
    "d_customers = final_df.select(\"customer_name\", \"customer_address\", \"customer_birthday\", \"customer_email\") \\\n",
    "    .dropDuplicates([\"customer_name\", \"customer_birthday\"]) \\\n",
    "    .withColumn(\"customer_id\", row_number().over(window_customer))\n",
    "\n",
    "window_product = Window.orderBy(\"product_name\", \"product_price\")\n",
    "# Step 3: Create d_products table\n",
    "d_products = final_df.select(\"product_name\", \"product_description\", \"product_type\", \"product_price\") \\\n",
    "    .dropDuplicates([\"product_name\", \"product_price\"]) \\\n",
    "    .withColumn(\"product_id\", row_number().over(window_product))\n",
    "\n",
    "# We need to join the original DataFrame with the new tables based on product_name, craftsman_name, and customer_name\n",
    "f_orders = final_df.join(d_products, [\"product_name\", \"product_price\"], \"left\") \\\n",
    "    .join(d_craftsmans, [\"craftsman_name\", \"craftsman_birthday\"], \"left\") \\\n",
    "    .join(d_customers, [\"customer_name\", \"customer_birthday\"], \"left\") \\\n",
    "    .select(\n",
    "        row_number().over(Window.orderBy(\"product_id\", \"craftsman_id\", \"customer_id\")).alias(\"order_id\"),\n",
    "        \"product_id\",\n",
    "        \"craftsman_id\",\n",
    "        \"customer_id\",\n",
    "        \"order_created_date\",\n",
    "        \"order_completion_date\",\n",
    "        \"order_status\"\n",
    "    )\n",
    "\n",
    "# Show the resulting DataFrames\n",
    "d_craftsmans = d_craftsmans.withColumn(\"load_dttm\", current_timestamp())\n",
    "d_customers = d_customers.withColumn(\"load_dttm\", current_timestamp())\n",
    "d_products = d_products.withColumn(\"load_dttm\", current_timestamp())\n",
    "f_orders = f_orders.withColumn(\"load_dttm\", current_timestamp())\n",
    "\n",
    "print(f\"{final_df.count()=} {d_craftsmans.count()=} {d_customers.count()=} {d_products.count()=} {f_orders.count()=}\")\n"
   ]
  },
  {
   "cell_type": "code",
   "execution_count": 9,
   "id": "28f988c6-6c6e-47eb-8034-9234a2e393e9",
   "metadata": {},
   "outputs": [],
   "source": [
    "# Step 1: Write d_craftsmans table to DWH\n",
    "d_craftsmans.write.jdbc(url=jdbc_url, table=\"dwh.d_craftsmans\", mode=\"append\", properties=properties)\n",
    "# Step 2: Write d_customers table to DWH\n",
    "d_customers.write.jdbc(url=jdbc_url, table=\"dwh.d_customers\", mode=\"append\", properties=properties)\n",
    "# Step 3: Write d_products table to DWH\n",
    "d_products.write.jdbc(url=jdbc_url, table=\"dwh.d_products\", mode=\"append\", properties=properties)\n",
    "# Step 4: Write f_orders table to DWH\n",
    "f_orders.write.jdbc(url=jdbc_url, table=\"dwh.f_orders\", mode=\"append\", properties=properties)"
   ]
  },
  {
   "cell_type": "code",
   "execution_count": null,
   "id": "146b6493-1b34-4147-8862-17c26c0577ca",
   "metadata": {},
   "outputs": [],
   "source": []
  }
 ],
 "metadata": {
  "kernelspec": {
   "display_name": "Python 3 (ipykernel)",
   "language": "python",
   "name": "python3"
  },
  "language_info": {
   "codemirror_mode": {
    "name": "ipython",
    "version": 3
   },
   "file_extension": ".py",
   "mimetype": "text/x-python",
   "name": "python",
   "nbconvert_exporter": "python",
   "pygments_lexer": "ipython3",
   "version": "3.11.6"
  }
 },
 "nbformat": 4,
 "nbformat_minor": 5
}
